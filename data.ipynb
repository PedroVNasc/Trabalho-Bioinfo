{
 "cells": [
  {
   "cell_type": "code",
   "execution_count": null,
   "metadata": {},
   "outputs": [],
   "source": [
    "import os\n",
    "import csv\n",
    "import pandas as pd\n",
    "from Bio import Entrez\n",
    "from tqdm import tqdm\n",
    "from Bio import SeqIO"
   ]
  },
  {
   "cell_type": "markdown",
   "metadata": {},
   "source": [
    "### Setup"
   ]
  },
  {
   "cell_type": "markdown",
   "metadata": {},
   "source": [
    "Primeiramente é feita a filtragem dos Dados iniciais."
   ]
  },
  {
   "cell_type": "code",
   "execution_count": null,
   "metadata": {},
   "outputs": [],
   "source": [
    "file_paths = os.listdir('./data/')\n",
    "file_paths = list(set(file_paths) - set(['data.csv', 'sequences']))\n",
    "print(file_paths)"
   ]
  },
  {
   "cell_type": "code",
   "execution_count": null,
   "metadata": {},
   "outputs": [],
   "source": [
    "data = []\n",
    "\n",
    "for path in file_paths:\n",
    "    with open('./data/' + path, 'r') as f:\n",
    "        reader = csv.reader(f, delimiter='\\t')\n",
    "\n",
    "        class_name = path.split('.')[0].split('_')[1]\n",
    "\n",
    "        for row in reader:\n",
    "            if (row[6] == '+'):\n",
    "                data.append([class_name] + row)"
   ]
  },
  {
   "cell_type": "code",
   "execution_count": null,
   "metadata": {},
   "outputs": [],
   "source": [
    "header = ['Class', 'Chr', 'Source Annotation', 'Class/Order/Superfamily', 'Start', 'End', 'Score', 'Strand', 'Phase', 'Attributes']\n",
    "\n",
    "data_df = pd.DataFrame(data, columns=header)\n",
    "data_df = data_df[['Class', 'Chr', 'Start', 'End']]\n",
    "\n",
    "data_df.head()"
   ]
  },
  {
   "cell_type": "code",
   "execution_count": null,
   "metadata": {},
   "outputs": [],
   "source": [
    "data_df.to_csv('./data/data.csv')"
   ]
  },
  {
   "cell_type": "code",
   "execution_count": null,
   "metadata": {},
   "outputs": [],
   "source": [
    "## Checando os possíveis valores dos cromossomos\n",
    "data_df.Chr.unique()"
   ]
  },
  {
   "cell_type": "markdown",
   "metadata": {},
   "source": [
    "Em sequência será feita a extração dos genomas por meio de Biopython"
   ]
  },
  {
   "cell_type": "code",
   "execution_count": null,
   "metadata": {},
   "outputs": [],
   "source": [
    "id_dict = {\"LR618874.1\": \"Chr_1.txt\", \"LR618875.1\": \"Chr_2.txt\", \"LR618876.1\": \"Chr_3.txt\", \"LR618877.1\": \"Chr_4.txt\", \n",
    "           \"LR618878.1\": \"Chr_5.txt\", \"LR618879.1\": \"Chr_6.txt\", \"LR618880.1\": \"Chr_7.txt\", \"LR618881.1\": \"Chr_8.txt\", \n",
    "           \"LR618882.1\": \"Chr_9.txt\", \"LR618883.1\": \"Chr_10.txt\", \"AY506529.1\":\"Chr_Mt.txt\", \"X86563.2\": \"Chr_Pt.txt\"}\n",
    "\n",
    "Entrez.email = \"pedro.guilherme2305@usp.br\"\n",
    "for id in tqdm(id_dict, total=len(id_dict)):\n",
    "    stream = Entrez.efetch(db=\"nuccore\", id=id, rettype=\"fasta\")\n",
    "    \n",
    "    with open(f\"./data/sequences/{id_dict[id]}\", \"w\") as file:\n",
    "        file.write(stream.read())\n",
    "    stream.close()"
   ]
  },
  {
   "cell_type": "markdown",
   "metadata": {},
   "source": [
    "### Processamento"
   ]
  },
  {
   "cell_type": "code",
   "execution_count": null,
   "metadata": {},
   "outputs": [],
   "source": [
    "data_df = pd.read_csv(\"./data/data.csv\")\n",
    "chromosomes_to_keep = ['1', '2', '3', '4', '5', '6', '7', '8', '9', '10', 'Mt', 'Pt']\n",
    "data_df = data_df.query(\"Chr in @chromosomes_to_keep\") "
   ]
  },
  {
   "cell_type": "code",
   "execution_count": null,
   "metadata": {},
   "outputs": [],
   "source": [
    "aux_list = []\n",
    "\n",
    "for chromosome in chromosomes_to_keep:\n",
    "    rows = data_df.query(f\"Chr == '{chromosome}'\").to_dict(orient=\"records\")\n",
    "    record = SeqIO.read(f\"./data/sequences/Chr_{chromosome}.txt\", \"fasta\")\n",
    "    for row in tqdm(rows, total=len(rows)):\n",
    "        aux_dict = dict()\n",
    "\n",
    "        aux_dict['Chr'] = row['Chr']\n",
    "        aux_dict['Sequence'] = record[row['Start']:row['End']].seq\n",
    "        aux_dict['Class'] = row['Class']\n",
    "\n",
    "        aux_list.append(aux_dict)\n"
   ]
  },
  {
   "cell_type": "code",
   "execution_count": null,
   "metadata": {},
   "outputs": [],
   "source": [
    "final_df = pd.DataFrame(aux_list)\n",
    "final_df"
   ]
  },
  {
   "cell_type": "code",
   "execution_count": null,
   "metadata": {},
   "outputs": [],
   "source": [
    "final_df.to_csv('./data/final.csv')"
   ]
  }
 ],
 "metadata": {
  "kernelspec": {
   "display_name": "Python 3",
   "language": "python",
   "name": "python3"
  },
  "language_info": {
   "codemirror_mode": {
    "name": "ipython",
    "version": 3
   },
   "file_extension": ".py",
   "mimetype": "text/x-python",
   "name": "python",
   "nbconvert_exporter": "python",
   "pygments_lexer": "ipython3",
   "version": "3.12.6"
  }
 },
 "nbformat": 4,
 "nbformat_minor": 2
}
